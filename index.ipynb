{
 "cells": [
  {
   "cell_type": "markdown",
   "metadata": {},
   "source": [
    "# Community Detection - Lab\n",
    "\n",
    "## Introduction\n",
    "\n",
    "In this lab, you'll once again work to cluster a network dataset. This time, you'll be investigating a meetup dataset for events occurring in Nashville.\n",
    "\n",
    "## Objectives\n",
    "\n",
    "You will be able to:\n",
    "* Cluster a social network into subgroups"
   ]
  },
  {
   "cell_type": "markdown",
   "metadata": {},
   "source": [
    "## Load the Dataset\n",
    "\n",
    "To start, load the dataset `'nashville-meetup/group-edges.csv'` as a pandas Dataframe. "
   ]
  },
  {
   "cell_type": "code",
   "execution_count": 1,
   "metadata": {},
   "outputs": [],
   "source": [
    "import pandas as pd\n",
    "import networkx as nx"
   ]
  },
  {
   "cell_type": "code",
   "execution_count": 2,
   "metadata": {},
   "outputs": [
    {
     "data": {
      "text/html": [
       "<div>\n",
       "<style scoped>\n",
       "    .dataframe tbody tr th:only-of-type {\n",
       "        vertical-align: middle;\n",
       "    }\n",
       "\n",
       "    .dataframe tbody tr th {\n",
       "        vertical-align: top;\n",
       "    }\n",
       "\n",
       "    .dataframe thead th {\n",
       "        text-align: right;\n",
       "    }\n",
       "</style>\n",
       "<table border=\"1\" class=\"dataframe\">\n",
       "  <thead>\n",
       "    <tr style=\"text-align: right;\">\n",
       "      <th></th>\n",
       "      <th>Unnamed: 0</th>\n",
       "      <th>group1</th>\n",
       "      <th>group2</th>\n",
       "      <th>weight</th>\n",
       "    </tr>\n",
       "  </thead>\n",
       "  <tbody>\n",
       "    <tr>\n",
       "      <th>0</th>\n",
       "      <td>0</td>\n",
       "      <td>19292162</td>\n",
       "      <td>535553</td>\n",
       "      <td>2</td>\n",
       "    </tr>\n",
       "    <tr>\n",
       "      <th>1</th>\n",
       "      <td>1</td>\n",
       "      <td>19292162</td>\n",
       "      <td>19194894</td>\n",
       "      <td>1</td>\n",
       "    </tr>\n",
       "    <tr>\n",
       "      <th>2</th>\n",
       "      <td>2</td>\n",
       "      <td>19292162</td>\n",
       "      <td>19728145</td>\n",
       "      <td>1</td>\n",
       "    </tr>\n",
       "    <tr>\n",
       "      <th>3</th>\n",
       "      <td>3</td>\n",
       "      <td>19292162</td>\n",
       "      <td>18850080</td>\n",
       "      <td>2</td>\n",
       "    </tr>\n",
       "    <tr>\n",
       "      <th>4</th>\n",
       "      <td>4</td>\n",
       "      <td>19292162</td>\n",
       "      <td>1728035</td>\n",
       "      <td>1</td>\n",
       "    </tr>\n",
       "  </tbody>\n",
       "</table>\n",
       "</div>"
      ],
      "text/plain": [
       "   Unnamed: 0    group1    group2  weight\n",
       "0           0  19292162    535553       2\n",
       "1           1  19292162  19194894       1\n",
       "2           2  19292162  19728145       1\n",
       "3           3  19292162  18850080       2\n",
       "4           4  19292162   1728035       1"
      ]
     },
     "execution_count": 2,
     "metadata": {},
     "output_type": "execute_result"
    }
   ],
   "source": [
    "df = pd.read_csv('nashville-meetup/group-edges.csv')\n",
    "df.head()"
   ]
  },
  {
   "cell_type": "markdown",
   "metadata": {},
   "source": [
    "To add some descriptive data, import the file `'nashville-meetup/meta-groups.csv'`."
   ]
  },
  {
   "cell_type": "code",
   "execution_count": 3,
   "metadata": {},
   "outputs": [
    {
     "data": {
      "text/html": [
       "<div>\n",
       "<style scoped>\n",
       "    .dataframe tbody tr th:only-of-type {\n",
       "        vertical-align: middle;\n",
       "    }\n",
       "\n",
       "    .dataframe tbody tr th {\n",
       "        vertical-align: top;\n",
       "    }\n",
       "\n",
       "    .dataframe thead th {\n",
       "        text-align: right;\n",
       "    }\n",
       "</style>\n",
       "<table border=\"1\" class=\"dataframe\">\n",
       "  <thead>\n",
       "    <tr style=\"text-align: right;\">\n",
       "      <th></th>\n",
       "      <th>group_id</th>\n",
       "      <th>group_name</th>\n",
       "      <th>num_members</th>\n",
       "      <th>category_id</th>\n",
       "      <th>category_name</th>\n",
       "      <th>organizer_id</th>\n",
       "      <th>group_urlname</th>\n",
       "    </tr>\n",
       "  </thead>\n",
       "  <tbody>\n",
       "    <tr>\n",
       "      <th>0</th>\n",
       "      <td>339011</td>\n",
       "      <td>Nashville Hiking Meetup</td>\n",
       "      <td>15838</td>\n",
       "      <td>23</td>\n",
       "      <td>Outdoors &amp; Adventure</td>\n",
       "      <td>4353803</td>\n",
       "      <td>nashville-hiking</td>\n",
       "    </tr>\n",
       "    <tr>\n",
       "      <th>1</th>\n",
       "      <td>19728145</td>\n",
       "      <td>Stepping Out Social Dance Meetup</td>\n",
       "      <td>1778</td>\n",
       "      <td>5</td>\n",
       "      <td>Dancing</td>\n",
       "      <td>118484462</td>\n",
       "      <td>steppingoutsocialdance</td>\n",
       "    </tr>\n",
       "    <tr>\n",
       "      <th>2</th>\n",
       "      <td>6335372</td>\n",
       "      <td>Nashville soccer</td>\n",
       "      <td>2869</td>\n",
       "      <td>32</td>\n",
       "      <td>Sports &amp; Recreation</td>\n",
       "      <td>108448302</td>\n",
       "      <td>Nashville-soccer</td>\n",
       "    </tr>\n",
       "    <tr>\n",
       "      <th>3</th>\n",
       "      <td>10016242</td>\n",
       "      <td>NashJS</td>\n",
       "      <td>1975</td>\n",
       "      <td>34</td>\n",
       "      <td>Tech</td>\n",
       "      <td>8111102</td>\n",
       "      <td>nashjs</td>\n",
       "    </tr>\n",
       "    <tr>\n",
       "      <th>4</th>\n",
       "      <td>21174496</td>\n",
       "      <td>20's &amp; 30's Women looking for girlfriends</td>\n",
       "      <td>2782</td>\n",
       "      <td>31</td>\n",
       "      <td>Socializing</td>\n",
       "      <td>184580248</td>\n",
       "      <td>new-friends-in-Nashville</td>\n",
       "    </tr>\n",
       "  </tbody>\n",
       "</table>\n",
       "</div>"
      ],
      "text/plain": [
       "   group_id                                 group_name  num_members  \\\n",
       "0    339011                    Nashville Hiking Meetup        15838   \n",
       "1  19728145           Stepping Out Social Dance Meetup         1778   \n",
       "2   6335372                           Nashville soccer         2869   \n",
       "3  10016242                                     NashJS         1975   \n",
       "4  21174496  20's & 30's Women looking for girlfriends         2782   \n",
       "\n",
       "   category_id         category_name  organizer_id             group_urlname  \n",
       "0           23  Outdoors & Adventure       4353803          nashville-hiking  \n",
       "1            5               Dancing     118484462    steppingoutsocialdance  \n",
       "2           32   Sports & Recreation     108448302          Nashville-soccer  \n",
       "3           34                  Tech       8111102                    nashjs  \n",
       "4           31           Socializing     184580248  new-friends-in-Nashville  "
      ]
     },
     "execution_count": 3,
     "metadata": {},
     "output_type": "execute_result"
    }
   ],
   "source": [
    "meta_df = pd.read_csv('nashville-meetup/meta-groups.csv')\n",
    "meta_df.head()"
   ]
  },
  {
   "cell_type": "markdown",
   "metadata": {},
   "source": [
    "## Transform to a Network Representation\n",
    "\n",
    "Take the Pandas DataFrame and transform it into a graph representation via NetworkX. Make nodes the names of the various groups within the Nashville area. The edges should be the weights between these groups."
   ]
  },
  {
   "cell_type": "code",
   "execution_count": null,
   "metadata": {},
   "outputs": [],
   "source": [
    "# group_dict = dict(zip(meta_df.group_id, meta_df.group_name))\n",
    "# G = nx.Graph()\n",
    "# for row in df.index:\n",
    "#     g1 = group_dict[df.group1[row]]\n",
    "#     g2 = group_dict[df.group2[row]]\n",
    "#     weight = df.weight[row]\n",
    "#     G.add_edge(g1, g2, weight=weight)"
   ]
  },
  {
   "cell_type": "code",
   "execution_count": 21,
   "metadata": {
    "scrolled": true
   },
   "outputs": [],
   "source": [
    "g = nx.Graph()\n",
    "g.add_nodes_from(meta_df['group_name'])\n",
    "attributes = [{'weight': df['weight'][i]} for i in df['weight'].index]\n",
    "g.add_edges_from(list(zip(df['group1'], df['group2'], attributes)))"
   ]
  },
  {
   "cell_type": "markdown",
   "metadata": {},
   "source": [
    "## Visualize the Network"
   ]
  },
  {
   "cell_type": "code",
   "execution_count": 32,
   "metadata": {},
   "outputs": [
    {
     "name": "stderr",
     "output_type": "stream",
     "text": [
      "/opt/conda/envs/learn-env/lib/python3.6/site-packages/networkx/drawing/nx_pylab.py:611: MatplotlibDeprecationWarning: isinstance(..., numbers.Number)\n",
      "  if cb.is_numlike(alpha):\n"
     ]
    },
    {
     "data": {
      "image/png": "[encoded data removed]",
      "text/plain": [
       "<Figure size 432x288 with 1 Axes>"
      ]
     },
     "metadata": {},
     "output_type": "display_data"
    }
   ],
   "source": [
    "%matplotlib inline\n",
    "nx.draw(g, node_color='#32cefe', alpha=.75, pos=nx.spring_layout(g, seed=5));"
   ]
  },
  {
   "cell_type": "markdown",
   "metadata": {},
   "source": [
    "## Refine the Visual\n",
    "\n",
    "As you should see, the initial visualization is a globular mess! Refine the visualization to better picture the center core of the  network."
   ]
  },
  {
   "cell_type": "code",
   "execution_count": 33,
   "metadata": {},
   "outputs": [
    {
     "name": "stdout",
     "output_type": "stream",
     "text": [
      "0th percentile: 1.0\n",
      "5th percentile: 1.0\n",
      "10th percentile: 1.0\n",
      "15th percentile: 1.0\n",
      "20th percentile: 1.0\n",
      "25th percentile: 1.0\n",
      "30th percentile: 1.0\n",
      "35th percentile: 1.0\n",
      "40th percentile: 1.0\n",
      "45th percentile: 1.0\n",
      "50th percentile: 1.0\n",
      "55th percentile: 1.0\n",
      "60th percentile: 1.0\n",
      "65th percentile: 1.0\n",
      "70th percentile: 2.0\n",
      "75th percentile: 2.0\n",
      "80th percentile: 2.0\n",
      "85th percentile: 3.0\n",
      "90th percentile: 4.0\n",
      "95th percentile: 7.0\n"
     ]
    }
   ],
   "source": [
    "for i in range(0,100,5):\n",
    "    print(\"{}th percentile: {}\".format(i, df.weight.quantile(q=i/100)))"
   ]
  },
  {
   "cell_type": "code",
   "execution_count": null,
   "metadata": {},
   "outputs": [],
   "source": []
  },
  {
   "cell_type": "code",
   "execution_count": null,
   "metadata": {},
   "outputs": [],
   "source": []
  },
  {
   "cell_type": "code",
   "execution_count": null,
   "metadata": {},
   "outputs": [],
   "source": []
  },
  {
   "cell_type": "code",
   "execution_count": null,
   "metadata": {},
   "outputs": [],
   "source": [
    "g_subset = nx.Graph()"
   ]
  },
  {
   "cell_type": "markdown",
   "metadata": {},
   "source": [
    "## Try Clustering the Network\n",
    "\n",
    "Now, that the dataset is a little more manageable, try clustering the remaining group nodes."
   ]
  },
  {
   "cell_type": "code",
   "execution_count": null,
   "metadata": {},
   "outputs": [],
   "source": [
    "#Your code here"
   ]
  },
  {
   "cell_type": "markdown",
   "metadata": {},
   "source": [
    "## Determine An Optimal Clustering Schema\n",
    "\n",
    "Finally, determine a final clustering organization."
   ]
  },
  {
   "cell_type": "code",
   "execution_count": null,
   "metadata": {},
   "outputs": [],
   "source": [
    "#Your code here"
   ]
  },
  {
   "cell_type": "markdown",
   "metadata": {},
   "source": [
    "## Visualize the Clusters\n",
    "\n",
    "Analyze the output of your clustering schema. Do any clusters of groups stand out to you?"
   ]
  },
  {
   "cell_type": "code",
   "execution_count": null,
   "metadata": {},
   "outputs": [],
   "source": [
    "#Your code here"
   ]
  },
  {
   "cell_type": "markdown",
   "metadata": {},
   "source": [
    "## Summary\n",
    "\n",
    "In this lab, you got another chance to practice your network clustering skills, investigating a meetup dataset of events and groups surrounding the Nashville area. If you're up for the challenge, feel free to continue investigating the dataset and trying to cluster users or events!                                                                                                                                                               "
   ]
  }
 ],
 "metadata": {
  "kernelspec": {
   "display_name": "Python 3",
   "language": "python",
   "name": "python3"
  },
  "language_info": {
   "codemirror_mode": {
    "name": "ipython",
    "version": 3
   },
   "file_extension": ".py",
   "mimetype": "text/x-python",
   "name": "python",
   "nbconvert_exporter": "python",
   "pygments_lexer": "ipython3",
   "version": "3.6.6"
  }
 },
 "nbformat": 4,
 "nbformat_minor": 2
}
